{
 "cells": [
  {
   "cell_type": "code",
   "execution_count": null,
   "id": "67513d69",
   "metadata": {},
   "outputs": [],
   "source": [
    "Write a Python function to sum all the numbers in a list.\n",
    "\n",
    "Sample List : (8, 2, 3, 0, 7)\n",
    "\n",
    "Expected Output : 20"
   ]
  },
  {
   "cell_type": "code",
   "execution_count": 3,
   "id": "49c12e32",
   "metadata": {},
   "outputs": [
    {
     "name": "stdout",
     "output_type": "stream",
     "text": [
      "20\n"
     ]
    }
   ],
   "source": [
    "def sum(number_of_list):\n",
    "    Total_sum = 0\n",
    "    for x in number_of_list:\n",
    "        Total_sum += x\n",
    "    return Total_sum\n",
    "    \n",
    "print(sum([8,2,3,0,7]))"
   ]
  },
  {
   "cell_type": "code",
   "execution_count": null,
   "id": "8d00f251",
   "metadata": {},
   "outputs": [],
   "source": [
    "Write a Python program to reverse a string.\n",
    "\n",
    "Sample String : \"1234abcd\"\n",
    "\n",
    "Expected Output : \"dcba4321\""
   ]
  },
  {
   "cell_type": "code",
   "execution_count": 5,
   "id": "8542af76",
   "metadata": {},
   "outputs": [
    {
     "data": {
      "text/plain": [
       "'dcba4321'"
      ]
     },
     "execution_count": 5,
     "metadata": {},
     "output_type": "execute_result"
    }
   ],
   "source": [
    "def reverse (string):\n",
    "    if len(string)==0:\n",
    "        return string\n",
    "    else:\n",
    "        return reverse(string[1:]) + string[0]\n",
    "reverse(\"1234abcd\")"
   ]
  },
  {
   "cell_type": "code",
   "execution_count": null,
   "id": "8d0b6f15",
   "metadata": {},
   "outputs": [],
   "source": [
    "Write a Python function that accepts a string and calculate the number of upper case letters and \n",
    "lower case letters.\n",
    "\n",
    "Sample String : 'The quick Brow Fox'\n",
    "\n",
    "Expected Output :\n",
    "No. of Upper case characters : 3\n",
    "No. of Lower case Characters : 12"
   ]
  },
  {
   "cell_type": "code",
   "execution_count": 11,
   "id": "8af136a1",
   "metadata": {},
   "outputs": [
    {
     "name": "stdout",
     "output_type": "stream",
     "text": [
      "The lower case letters: 12\n",
      "the upper case letters: 3\n"
     ]
    }
   ],
   "source": [
    "sentence = 'The quick Brow Fox'\n",
    "upper=0\n",
    "lower=0\n",
    "for i in sentence:\n",
    "    if (i.islower()):\n",
    "        lower=lower+1\n",
    "    elif (i.isupper()):\n",
    "        upper=upper+1\n",
    "print(\"The lower case letters:\",lower)\n",
    "print(\"the upper case letters:\",upper)"
   ]
  },
  {
   "cell_type": "code",
   "execution_count": null,
   "id": "4883ace6",
   "metadata": {},
   "outputs": [],
   "source": []
  }
 ],
 "metadata": {
  "kernelspec": {
   "display_name": "Python 3",
   "language": "python",
   "name": "python3"
  },
  "language_info": {
   "codemirror_mode": {
    "name": "ipython",
    "version": 3
   },
   "file_extension": ".py",
   "mimetype": "text/x-python",
   "name": "python",
   "nbconvert_exporter": "python",
   "pygments_lexer": "ipython3",
   "version": "3.9.5"
  }
 },
 "nbformat": 4,
 "nbformat_minor": 5
}
